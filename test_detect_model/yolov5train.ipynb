{
  "cells": [
    {
      "cell_type": "code",
      "execution_count": null,
      "metadata": {
        "id": "6pz9_olrAwxV",
        "collapsed": true
      },
      "outputs": [],
      "source": [
        "from google.colab import drive\n",
        "drive.mount('/content/drive')\n"
      ]
    },
    {
      "cell_type": "code",
      "execution_count": null,
      "metadata": {
        "id": "wzg8xNc9rdBI",
        "collapsed": true
      },
      "outputs": [],
      "source": [
        "%cd /content\n",
        "!git clone https://github.com/ultralytics/yolov5.git"
      ]
    },
    {
      "cell_type": "code",
      "execution_count": null,
      "metadata": {
        "id": "V4zMgnsqBBv6",
        "collapsed": true
      },
      "outputs": [],
      "source": [
        "%cd /content/yolov5\n",
        "!pip install -r requirements.txt"
      ]
    },
    {
      "cell_type": "code",
      "execution_count": null,
      "metadata": {
        "id": "HCw8aDTREyYu",
        "collapsed": true
      },
      "outputs": [],
      "source": [
        "%cd /content/drive/MyDrive\n",
        "!unzip traffic_light4.zip -d /content"
      ]
    },
    {
      "cell_type": "markdown",
      "metadata": {
        "id": "YzYFJFLRDF8b"
      },
      "source": [
        "# 첫 번째 트레인\n",
        "\n",
        "\n"
      ]
    },
    {
      "cell_type": "code",
      "source": [
        "%cd /content/drive/MyDrive\n",
        "!unzip people.zip -d /content"
      ],
      "metadata": {
        "id": "17N7le9gIJmt",
        "collapsed": true
      },
      "execution_count": null,
      "outputs": []
    },
    {
      "cell_type": "code",
      "source": [
        "import os\n",
        "import glob\n",
        "a = ['train', 'val']\n",
        "# 폴더 내 모든 txt 파일에 대해\n",
        "for i in a:\n",
        "    for filename in glob.glob('/content/labels/'+i+'/*.txt'):\n",
        "        with open(filename, 'r') as file:\n",
        "            lines = file.readlines()\n",
        "\n",
        "        # 각 줄에 대해\n",
        "        new_lines = []\n",
        "        for line in lines:\n",
        "            parts = line.split()\n",
        "            if parts[0] != '0':\n",
        "                parts[0] = '0'  # 클래스 이름을 1로 변경\n",
        "            new_lines.append(' '.join(parts))\n",
        "\n",
        "        # 변경된 내용으로 파일 다시 쓰기\n",
        "        with open(filename, 'w') as file:\n",
        "            file.write('\\n'.join(new_lines))\n"
      ],
      "metadata": {
        "id": "tLehYX_XKUAo"
      },
      "execution_count": null,
      "outputs": []
    },
    {
      "cell_type": "code",
      "source": [
        "%cd /content/yolov5"
      ],
      "metadata": {
        "id": "2HfCXypYJIbZ",
        "collapsed": true
      },
      "execution_count": null,
      "outputs": []
    },
    {
      "cell_type": "code",
      "execution_count": null,
      "metadata": {
        "id": "NnlP6w9oBa1E",
        "collapsed": true
      },
      "outputs": [],
      "source": [
        "!python train.py --batch 64 --epochs 50 --data /content/drive/MyDrive/yolov5/data/data.yaml --cfg /content/drive/MyDrive/yolov5/models/yolov5s.yaml --weights /content/drive/MyDrive/yolov5/yolov5s.pt --name person_results --save-period 1 --hyp /content/drive/MyDrive/yolov5/data/hyps/hyp.scratch-low.yaml"
      ]
    },
    {
      "cell_type": "code",
      "source": [
        "%mv /content/yolov5/runs/train/person_results /content/drive/MyDrive/runs_memory"
      ],
      "metadata": {
        "id": "s_Qq3fmpjGWN"
      },
      "execution_count": null,
      "outputs": []
    },
    {
      "cell_type": "markdown",
      "metadata": {
        "id": "l6aNFThxDFbD"
      },
      "source": [
        "# 두 번째 트레인"
      ]
    },
    {
      "cell_type": "code",
      "execution_count": null,
      "metadata": {
        "id": "oRxXq563CsOZ"
      },
      "outputs": [],
      "source": [
        "%cd /content/yolov5"
      ]
    },
    {
      "cell_type": "code",
      "execution_count": null,
      "metadata": {
        "colab": {
          "background_save": true
        },
        "id": "LHbEQjGXDER7",
        "collapsed": true
      },
      "outputs": [],
      "source": [
        "!python train.py --batch 32 --epochs 100 --data /content/drive/MyDrive/yolov5/data/data2.yaml --cfg /content/drive/MyDrive/yolov5/models/yolov5s.yaml --weights /content/drive/MyDrive/runs_memory/second_resultss/weights/best.pt --name second_resultss --save-period 10 --hyp /content/drive/MyDrive/yolov5/data/hyps/hyp.scratch-low.yaml"
      ]
    },
    {
      "cell_type": "code",
      "execution_count": null,
      "metadata": {
        "colab": {
          "background_save": true
        },
        "id": "RuI5tJcGuGDb",
        "collapsed": true
      },
      "outputs": [],
      "source": [
        "%mv /content/yolov5/runs/train/second_resultss2 /content/drive/MyDrive/runs_memory"
      ]
    },
    {
      "cell_type": "code",
      "execution_count": null,
      "metadata": {
        "id": "xIFcQN3ZPBtm"
      },
      "outputs": [],
      "source": [
        "%mv /content/yolov5/runs/train/second_resultss2 /content/drive/MyDrive/runs_memory"
      ]
    },
    {
      "cell_type": "markdown",
      "metadata": {
        "id": "k6D04Z7XRv5k"
      },
      "source": [
        "#세 번째 트레인\n"
      ]
    },
    {
      "cell_type": "code",
      "execution_count": null,
      "metadata": {
        "id": "S7XXwmtf9b2W"
      },
      "outputs": [],
      "source": [
        "%cd /content/drive/MyDrive/yolov5/data\n",
        "!cp data3.yaml /content/yolov5/data"
      ]
    },
    {
      "cell_type": "code",
      "execution_count": null,
      "metadata": {
        "id": "EoYXQALJvNC9"
      },
      "outputs": [],
      "source": [
        "%cd /content/drive/MyDrive/third_resultss22/weights\n",
        "!cp best.pt /content/yolov5"
      ]
    },
    {
      "cell_type": "code",
      "execution_count": null,
      "metadata": {
        "id": "FKSfiYuKsHGE"
      },
      "outputs": [],
      "source": [
        "%cd /content/yolov5"
      ]
    },
    {
      "cell_type": "code",
      "execution_count": null,
      "metadata": {
        "id": "qGE9j5qhRxwL"
      },
      "outputs": [],
      "source": [
        "!python train.py --batch 16 --epochs 30 --data /content/yolov5/data/data3.yaml --cfg /content/yolov5/models/yolov5s.yaml --weights /content/drive/MyDrive/third_resultss22/weights/last.pt --name third_resultss --save-period 1"
      ]
    },
    {
      "cell_type": "code",
      "execution_count": null,
      "metadata": {
        "id": "mr0nnH23dARZ"
      },
      "outputs": [],
      "source": [
        "%cd runs/train/\n",
        "!mv third_resultss /content/drive/MyDrive"
      ]
    },
    {
      "cell_type": "markdown",
      "metadata": {
        "id": "iLfG14lQM419"
      },
      "source": [
        "# Detect"
      ]
    },
    {
      "cell_type": "code",
      "execution_count": null,
      "metadata": {
        "id": "3cNZZ1o02RGW"
      },
      "outputs": [],
      "source": [
        "!python detect.py --img 416 --weights /content/drive/MyDrive/yolov5/pt_memory/last.pt --conf 0.5 --source /content/drive/MyDrive/light_test"
      ]
    }
  ],
  "metadata": {
    "accelerator": "GPU",
    "colab": {
      "provenance": []
    },
    "kernelspec": {
      "display_name": "Python 3",
      "name": "python3"
    },
    "language_info": {
      "name": "python"
    }
  },
  "nbformat": 4,
  "nbformat_minor": 0
}